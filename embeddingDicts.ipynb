{
 "cells": [
  {
   "cell_type": "code",
   "execution_count": 55,
   "id": "thrown-nancy",
   "metadata": {},
   "outputs": [
    {
     "name": "stderr",
     "output_type": "stream",
     "text": [
      "Warning : `load_model` does not return WordVectorModel or SupervisedModel any more, but a `FastText` object which is very similar.\n"
     ]
    }
   ],
   "source": [
    "import fasttext.util\n",
    "import fasttext\n",
    "import spacy\n",
    "import pickle\n",
    "nlp = spacy.load('en_core_web_lg')\n",
    "fasttext.util.download_model('en', if_exists='ignore')  # English\n",
    "ft = fasttext.load_model('cc.en.300.bin')"
   ]
  },
  {
   "cell_type": "code",
   "execution_count": 69,
   "id": "injured-toilet",
   "metadata": {},
   "outputs": [],
   "source": [
    "#TODO for third stage of project. Get one Noun of image description\n",
    "def getNamedEntities(sentence):\n",
    "    doc = nlp(sentence)\n",
    "    for ent in doc.ents:\n",
    "        print(ent.text, ent.start_char, ent.end_char, ent.label_)\n",
    "        \n",
    "    for token in doc:\n",
    "        if token.pos_ == 'PROPN' or token.pos_ == 'NOUN':\n",
    "            print(token.text, token.lemma_, token.pos_)"
   ]
  },
  {
   "cell_type": "code",
   "execution_count": 82,
   "id": "assured-collaboration",
   "metadata": {},
   "outputs": [],
   "source": [
    "def mapLabels():\n",
    "    # get embeddings for labels\n",
    "    labels_mnist = ['one', 'two', 'three', 'four', 'five', 'six', 'seven', 'eight', 'nine', 'zero']\n",
    "    labels_cifar = ['plane', 'car', 'bird', 'cat', 'deer', 'dog', 'frog', 'horse', 'ship', 'truck']\n",
    "    label_IDs = [i for i in range(10)]\n",
    "\n",
    "    dict_mnist = {}\n",
    "    dict_cifar = {}\n",
    "    for label in labels_mnist:\n",
    "        for idx in label_IDs:\n",
    "            embedding = ft.get_word_vector(label)\n",
    "            dict_mnist[idx] = embedding\n",
    "    with open('./fasttext/mnist_embeddings', 'wb') as handle:\n",
    "        pickle.dump(dict_mnist, handle, protocol=pickle.HIGHEST_PROTOCOL)\n",
    "\n",
    "    for label in labels_cifar:\n",
    "        for idx in label_IDs:\n",
    "            embedding = ft.get_word_vector(label)\n",
    "            dict_cifar[idx] = embedding\n",
    "    with open('./fasttext/cifar_embeddings', 'wb') as handle:\n",
    "        pickle.dump(dict_cifar, handle, protocol=pickle.HIGHEST_PROTOCOL)"
   ]
  }
 ],
 "metadata": {
  "kernelspec": {
   "display_name": "Python 3",
   "language": "python",
   "name": "python3"
  },
  "language_info": {
   "codemirror_mode": {
    "name": "ipython",
    "version": 3
   },
   "file_extension": ".py",
   "mimetype": "text/x-python",
   "name": "python",
   "nbconvert_exporter": "python",
   "pygments_lexer": "ipython3",
   "version": "3.9.2"
  }
 },
 "nbformat": 4,
 "nbformat_minor": 5
}
