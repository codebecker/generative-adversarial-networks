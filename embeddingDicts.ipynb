{
 "cells": [
  {
   "cell_type": "code",
   "execution_count": null,
   "id": "thrown-nancy",
   "metadata": {},
   "outputs": [],
   "source": [
    "import fasttext.util\n",
    "import fasttext\n",
    "import spacy\n",
    "import pickle\n",
    "nlp = spacy.load('en_core_web_lg')\n",
    "fasttext.util.download_model('en', if_exists='ignore')  # English\n",
    "ft = fasttext.load_model('cc.en.300.bin')"
   ]
  },
  {
   "cell_type": "code",
   "execution_count": null,
   "id": "injured-toilet",
   "metadata": {},
   "outputs": [],
   "source": [
    "#TODO for third stage of project. Get one Noun of image description\n",
    "def getNamedEntities(sentence):\n",
    "    doc = nlp(sentence)\n",
    "    for ent in doc.ents:\n",
    "        print(ent.text, ent.start_char, ent.end_char, ent.label_)\n",
    "        \n",
    "    for token in doc:\n",
    "        if token.pos_ == 'PROPN' or token.pos_ == 'NOUN':\n",
    "            print(token.text, token.lemma_, token.pos_)"
   ]
  },
  {
   "cell_type": "code",
   "execution_count": null,
   "id": "assured-collaboration",
   "metadata": {},
   "outputs": [],
   "source": [
    "def mapLabels(str_labels, id_length, dict_name):\n",
    "    # get embeddings for labels\n",
    "  \n",
    "    label_IDs = [i for i in range(id_length)]\n",
    "    dictionary = {}\n",
    "    for label in str_labels:\n",
    "        for idx in label_IDs:\n",
    "            embedding = ft.get_word_vector(label)\n",
    "            print(len(embedding))\n",
    "            dictionary[idx] = embedding\n",
    "    with open('./fasttext/' + dict_name + '_embeddings.pickle', 'wb') as handle:\n",
    "        pickle.dump(dictionary, handle, protocol=pickle.HIGHEST_PROTOCOL)"
   ]
  },
  {
   "cell_type": "code",
   "execution_count": null,
   "id": "fleet-consumption",
   "metadata": {},
   "outputs": [],
   "source": [
    "labels_mnist = ['one', 'two', 'three', 'four', 'five', 'six', 'seven', 'eight', 'nine', 'zero']\n",
    "labels_cifar = ['plane', 'car', 'bird', 'cat', 'deer', 'dog', 'frog', 'horse', 'ship', 'truck']\n",
    "labels_fmnist = ['t-shirt', 'trouser', 'pullover', 'dress', 'coat', 'sandal', 'shirt', 'sneaker', 'bag' , 'ankle boot']\n",
    "\n",
    "str_labels = labels_fmnist\n",
    "id_length = len(str_labels)\n",
    "mapLabels(str_labels, id_length, \"fmnist\")"
   ]
  },
  {
   "cell_type": "code",
   "execution_count": null,
   "id": "relative-bhutan",
   "metadata": {},
   "outputs": [],
   "source": []
  }
 ],
 "metadata": {
  "kernelspec": {
   "display_name": "Python 3",
   "language": "python",
   "name": "python3"
  },
  "language_info": {
   "codemirror_mode": {
    "name": "ipython",
    "version": 3
   },
   "file_extension": ".py",
   "mimetype": "text/x-python",
   "name": "python",
   "nbconvert_exporter": "python",
   "pygments_lexer": "ipython3",
   "version": "3.9.2"
  }
 },
 "nbformat": 4,
 "nbformat_minor": 5
}
