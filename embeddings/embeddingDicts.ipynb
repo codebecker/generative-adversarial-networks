{
 "cells": [
  {
   "cell_type": "code",
   "execution_count": null,
   "id": "thrown-nancy",
   "metadata": {},
   "outputs": [],
   "source": [
    "import fasttext.util\n",
    "import fasttext\n",
    "import spacy\n",
    "import pickle\n",
    "from transformers import AutoTokenizer, AutoModel\n",
    "import torch\n",
    "# load fasttext-> takes some while to load 7GB model\n",
    "nlp = spacy.load('en_core_web_lg')\n",
    "fasttext.util.download_model('en', if_exists='ignore')  # English\n",
    "ft = fasttext.load_model('cc.en.300.bin')\n",
    "\n",
    "#load any hugging face model \n",
    "model_name='distilbert-base-uncased'\n",
    "tokenizer = AutoTokenizer.from_pretrained(model_name)\n",
    "model = AutoModel.from_pretrained(model_name)\n",
    "config = model.config"
   ]
  },
  {
   "cell_type": "code",
   "execution_count": null,
   "id": "assured-collaboration",
   "metadata": {},
   "outputs": [],
   "source": [
    "def mapLabels(str_labels, id_length, dict_name):\n",
    "    # get embeddings for labels\n",
    "    dictionary = {}\n",
    "    for idx, label in enumerate(str_labels):\n",
    "        embedding = ft.get_word_vector(label)\n",
    "        dictionary[idx] = embedding\n",
    "    with open('./' + dict_name + '_embeddings.pickle', 'wb') as handle:\n",
    "        pickle.dump(dictionary, handle, protocol=pickle.HIGHEST_PROTOCOL)"
   ]
  },
  {
   "cell_type": "code",
   "execution_count": null,
   "id": "52103b27",
   "metadata": {},
   "outputs": [],
   "source": [
    "def mapTransformerLabels(str_labels, id_length, dict_name):\n",
    "    # get embeddings for labels\n",
    "    dictionary = {}\n",
    "    for idx, label in enumerate(str_labels):\n",
    "        input_ids = torch.tensor(tokenizer.encode(label)).unsqueeze(0) # Batch size 1\n",
    "        embedding = model(input_ids)[0][0][0].detach().numpy() \n",
    "        dictionary[idx] = embedding\n",
    "    with open('./transformers/' + dict_name + '_embeddings.pickle', 'wb') as handle:\n",
    "        pickle.dump(dictionary, handle, protocol=pickle.HIGHEST_PROTOCOL)"
   ]
  },
  {
   "cell_type": "code",
   "execution_count": null,
   "id": "cc0f5cbb",
   "metadata": {},
   "outputs": [],
   "source": [
    "def mapCocoLabels(str_labels, id_length, dict_name, embedding_type):\n",
    "    if embedding_type == \"transformers\":\n",
    "    # get embeddings for labels\n",
    "        dictionary = {}\n",
    "        for idx1, cl in enumerate(str_labels):\n",
    "            tmp = dict()\n",
    "            for idx2, label in enumerate(cl): \n",
    "                input_ids = torch.tensor(tokenizer.encode(label)).unsqueeze(0) # Batch size 1\n",
    "                embedding = model(input_ids)[0][0][0].detach().numpy()\n",
    "                tmp[idx2] = embedding\n",
    "            dictionary[idx1] = tmp\n",
    "        with open('../transformers/' + dict_name + '_embeddings.pickle', 'wb') as handle:\n",
    "            pickle.dump(dictionary, handle, protocol=pickle.HIGHEST_PROTOCOL)\n",
    "    else:\n",
    "        dictionary = {}\n",
    "        for idx1, cl in enumerate(str_labels):\n",
    "            tmp = dict()\n",
    "            for idx2, label in enumerate(cl): \n",
    "                embedding = ft.get_word_vector(label)\n",
    "                tmp[idx2] = embedding\n",
    "            dictionary[idx1] = tmp\n",
    "        with open('./' + dict_name + '_embeddings.pickle', 'wb') as handle:\n",
    "            pickle.dump(dictionary, handle, protocol=pickle.HIGHEST_PROTOCOL)"
   ]
  },
  {
   "cell_type": "code",
   "execution_count": null,
   "id": "fleet-consumption",
   "metadata": {},
   "outputs": [],
   "source": [
    "import numpy as np\n",
    "labels_mnist = ['one', 'two', 'three', 'four', 'five', 'six', 'seven', 'eight', 'nine', 'zero']\n",
    "labels_cifar = ['plane', 'car', 'bird', 'cat', 'deer', 'dog', 'frog', 'horse', 'ship', 'truck']\n",
    "labels_fmnist = ['t-shirt', 'trouser', 'pullover', 'dress', 'coat', 'sandal', 'shirt', 'sneaker', 'bag' , 'ankle boot']\n",
    "\n",
    "str_labels = labels_cifar\n",
    "id_length = len(str_labels)\n",
    "mapTransformerLabels(str_labels, id_length, \"cifar10\")"
   ]
  },
  {
   "cell_type": "code",
   "execution_count": null,
   "id": "671976b1",
   "metadata": {},
   "outputs": [],
   "source": [
    "labels_coco = [\n",
    "    ['A red, white, and blue plane is in the sky.', 'A yellow propellor airplane is on a grassy runway.'], \n",
    "    ['Two men in orange vests are next to a black car.', 'An old car stand next to a tree.'],\n",
    "    ['Black and yellow bird with colorful beak sitting on a branch.', 'A brown bird perched on top of a metal fence.'],\n",
    "    ['A close shot of a cat laying on purple sheets. ', 'A black and white cat laying next to a remote control.'],\n",
    "    ['A deer is crossing a street', 'Between trees, there is a deer standing'],\n",
    "    ['A small white dog stands on a wooden bench.', 'A dog laying on a red couch.'],\n",
    "    ['A frog is sitting on a leaf', 'In a sea there is a frog swimming'],    \n",
    "    ['There is only one horse in the grassy field.', 'a white horse that is standing next to a fence'],\n",
    "    ['A speed boat is docked underneath a dark, shadowy bridge.', 'A man standing on top of an orange boat on a river.'],\n",
    "    ['This black and white photo shows a motorcycle', 'A green truck is driving on a street']\n",
    "]\n",
    "\n",
    "str_labels = labels_coco\n",
    "id_length = len(str_labels)\n",
    "mapCocoLabels(str_labels, id_length, \"cifar10_extended\", \"transformers\")"
   ]
  }
 ],
 "metadata": {
  "interpreter": {
   "hash": "19b193b21597b2531432d1ee43d2250207971705cde282ed77abb510e1e1e7ed"
  },
  "kernelspec": {
   "display_name": "Python 3",
   "language": "python",
   "name": "python3"
  },
  "language_info": {
   "codemirror_mode": {
    "name": "ipython",
    "version": 3
   },
   "file_extension": ".py",
   "mimetype": "text/x-python",
   "name": "python",
   "nbconvert_exporter": "python",
   "pygments_lexer": "ipython3",
   "version": "3.9.2"
  }
 },
 "nbformat": 4,
 "nbformat_minor": 5
}
